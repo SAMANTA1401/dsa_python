{
 "cells": [
  {
   "cell_type": "code",
   "execution_count": 120,
   "metadata": {},
   "outputs": [],
   "source": [
    "class TreeNode:\n",
    "    def __init__(self, data):\n",
    "        self.data = data\n",
    "        self.children = []\n",
    "        self.parent = None\n",
    "\n",
    "    def add_child(self, child):\n",
    "        child.parent = self\n",
    "        self.children.append(child)\n",
    "    \n",
    "    def get_level(self):\n",
    "        level = 0\n",
    "        p = self.parent\n",
    "        while p:\n",
    "            level += 1\n",
    "            p = p.parent\n",
    "        return level\n",
    "\n",
    "    def print_tree(self):\n",
    "        print(\" \"* self.get_level()*4 + \"|--\" +self.data)\n",
    "        # print(\" \"* len(self.children)*4 + \"|--\" +self.data)\n",
    "\n",
    "        for child in self.children:\n",
    "            # print(child.data)\n",
    "            child.print_tree()\n",
    "            "
   ]
  },
  {
   "cell_type": "code",
   "execution_count": 121,
   "metadata": {},
   "outputs": [],
   "source": [
    "def build_product_tree():\n",
    "    root = TreeNode(\"electronics\")\n",
    "\n",
    "    laptop = TreeNode(\"laptop\")\n",
    "    laptop.add_child(TreeNode(\"Mac\"))\n",
    "    laptop.add_child(TreeNode(\"Surface\"))\n",
    "    laptop.add_child(TreeNode(\"Thinkpad\"))\n",
    "\n",
    "    cellphone = TreeNode(\"Cell Phone\")\n",
    "    cellphone.add_child(TreeNode(\"iPhone\"))\n",
    "    cellphone.add_child(TreeNode(\"Google Pixel\"))\n",
    "    cellphone.add_child(TreeNode(\"Vivo\"))\n",
    "\n",
    "    tv = TreeNode(\"TV\")\n",
    "    tv.add_child(TreeNode(\"Samsung\"))\n",
    "    tv.add_child(TreeNode(\"LG\"))\n",
    "\n",
    "    root.add_child(laptop)\n",
    "    root.add_child(cellphone)\n",
    "    root.add_child(tv)\n",
    "\n",
    "    # root.print_tree()\n",
    "    return root"
   ]
  },
  {
   "cell_type": "code",
   "execution_count": 122,
   "metadata": {},
   "outputs": [],
   "source": [
    "root = build_product_tree()"
   ]
  },
  {
   "cell_type": "code",
   "execution_count": 123,
   "metadata": {},
   "outputs": [
    {
     "name": "stdout",
     "output_type": "stream",
     "text": [
      "            |--electronics\n",
      "            |--laptop\n",
      "|--Mac\n",
      "|--Surface\n",
      "|--Thinkpad\n",
      "            |--Cell Phone\n",
      "|--iPhone\n",
      "|--Google Pixel\n",
      "|--Vivo\n",
      "        |--TV\n",
      "|--Samsung\n",
      "|--LG\n"
     ]
    }
   ],
   "source": [
    "root.print_tree()"
   ]
  },
  {
   "cell_type": "code",
   "execution_count": 91,
   "metadata": {},
   "outputs": [
    {
     "name": "stdout",
     "output_type": "stream",
     "text": [
      "None\n"
     ]
    }
   ],
   "source": [
    "print(root.parent)"
   ]
  },
  {
   "cell_type": "code",
   "execution_count": 48,
   "metadata": {},
   "outputs": [
    {
     "name": "stdout",
     "output_type": "stream",
     "text": [
      "electronics\n"
     ]
    }
   ],
   "source": [
    "print(root.data)"
   ]
  },
  {
   "cell_type": "code",
   "execution_count": 86,
   "metadata": {},
   "outputs": [
    {
     "name": "stdout",
     "output_type": "stream",
     "text": [
      "3\n"
     ]
    }
   ],
   "source": [
    "print(len(root.children))"
   ]
  },
  {
   "cell_type": "code",
   "execution_count": 50,
   "metadata": {},
   "outputs": [
    {
     "name": "stdout",
     "output_type": "stream",
     "text": [
      "laptop\n",
      "electronics\n",
      "***\n",
      "Cell Phone\n",
      "electronics\n",
      "***\n",
      "TV\n",
      "electronics\n",
      "***\n"
     ]
    }
   ],
   "source": [
    "for child in root.children:\n",
    "    print(child.data)\n",
    "    print(child.parent.data)\n",
    "    print(\"***\")"
   ]
  },
  {
   "cell_type": "code",
   "execution_count": 51,
   "metadata": {},
   "outputs": [
    {
     "name": "stdout",
     "output_type": "stream",
     "text": [
      "[<__main__.TreeNode object at 0x0000028F7A6EA950>, <__main__.TreeNode object at 0x0000028F7A6E1190>]\n"
     ]
    }
   ],
   "source": [
    "print(child.children)"
   ]
  },
  {
   "cell_type": "code",
   "execution_count": 43,
   "metadata": {},
   "outputs": [
    {
     "name": "stdout",
     "output_type": "stream",
     "text": [
      "laptop\n",
      "//////\n",
      "Mac\n",
      "laptop\n",
      "***\n",
      "Surface\n",
      "laptop\n",
      "***\n",
      "Thinkpad\n",
      "laptop\n",
      "***\n",
      "Cell Phone\n",
      "//////\n",
      "iPhone\n",
      "Cell Phone\n",
      "***\n",
      "Google Pixel\n",
      "Cell Phone\n",
      "***\n",
      "Vivo\n",
      "Cell Phone\n",
      "***\n",
      "TV\n",
      "//////\n",
      "Samsung\n",
      "TV\n",
      "***\n",
      "LG\n",
      "TV\n",
      "***\n"
     ]
    }
   ],
   "source": [
    "for child in root.children:\n",
    "    print(child.data)\n",
    "    print(\"//////\")\n",
    "    for grandchild in child.children:\n",
    "        print(grandchild.data)\n",
    "        print(grandchild.parent.data)\n",
    "        print(\"***\")"
   ]
  },
  {
   "cell_type": "code",
   "execution_count": 25,
   "metadata": {},
   "outputs": [
    {
     "ename": "AttributeError",
     "evalue": "'list' object has no attribute 'chilren'",
     "output_type": "error",
     "traceback": [
      "\u001b[1;31m---------------------------------------------------------------------------\u001b[0m",
      "\u001b[1;31mAttributeError\u001b[0m                            Traceback (most recent call last)",
      "Cell \u001b[1;32mIn[25], line 1\u001b[0m\n\u001b[1;32m----> 1\u001b[0m \u001b[38;5;28;01mfor\u001b[39;00m child \u001b[38;5;129;01min\u001b[39;00m \u001b[43mroot\u001b[49m\u001b[38;5;241;43m.\u001b[39;49m\u001b[43mchildren\u001b[49m\u001b[38;5;241;43m.\u001b[39;49m\u001b[43mchilren\u001b[49m:\n\u001b[0;32m      2\u001b[0m     \u001b[38;5;28mprint\u001b[39m(child\u001b[38;5;241m.\u001b[39mdata)\n\u001b[0;32m      3\u001b[0m     \u001b[38;5;28mprint\u001b[39m(child\u001b[38;5;241m.\u001b[39mparent\u001b[38;5;241m.\u001b[39mdata)\n",
      "\u001b[1;31mAttributeError\u001b[0m: 'list' object has no attribute 'chilren'"
     ]
    }
   ],
   "source": []
  },
  {
   "cell_type": "code",
   "execution_count": null,
   "metadata": {},
   "outputs": [],
   "source": []
  }
 ],
 "metadata": {
  "kernelspec": {
   "display_name": "Python 3",
   "language": "python",
   "name": "python3"
  },
  "language_info": {
   "codemirror_mode": {
    "name": "ipython",
    "version": 3
   },
   "file_extension": ".py",
   "mimetype": "text/x-python",
   "name": "python",
   "nbconvert_exporter": "python",
   "pygments_lexer": "ipython3",
   "version": "3.11.0"
  }
 },
 "nbformat": 4,
 "nbformat_minor": 2
}
